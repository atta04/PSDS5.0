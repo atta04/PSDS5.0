{
  "nbformat": 4,
  "nbformat_minor": 0,
  "metadata": {
    "colab": {
      "provenance": []
    },
    "kernelspec": {
      "name": "python3",
      "display_name": "Python 3"
    },
    "language_info": {
      "name": "python"
    }
  },
  "cells": [
    {
      "cell_type": "code",
      "execution_count": 3,
      "metadata": {
        "colab": {
          "base_uri": "https://localhost:8080/"
        },
        "id": "5A74CULkQylW",
        "outputId": "cba3f284-1ee0-4da3-b69b-c84eda830f54"
      },
      "outputs": [
        {
          "output_type": "stream",
          "name": "stdout",
          "text": [
            "series - append:\n",
            " 0    1\n",
            "1    2\n",
            "2    3\n",
            "3    4\n",
            "4    5\n",
            "5    6\n",
            "0    a\n",
            "1    b\n",
            "2    c\n",
            "3    d\n",
            "4    f\n",
            "dtype: object\n"
          ]
        },
        {
          "output_type": "stream",
          "name": "stderr",
          "text": [
            "<ipython-input-3-1df1ed5bacf5>:6: FutureWarning: The series.append method is deprecated and will be removed from pandas in a future version. Use pandas.concat instead.\n",
            "  s1_append_s2 = s1.append(s2)\n"
          ]
        }
      ],
      "source": [
        "#Membuat series of int (s1) dan series of string (s2)\n",
        "import pandas as pd\n",
        "s1 = pd.Series([1,2,3,4,5,6])\n",
        "s2 = pd.Series([\"a\",\"b\",\"c\",\"d\",\"f\"])\n",
        "#Menerapkan method append\n",
        "s1_append_s2 = s1.append(s2)\n",
        "print(\"series - append:\\n\", s1_append_s2)"
      ]
    },
    {
      "cell_type": "code",
      "source": [
        "#Buat dataframe df1 dan df2\n",
        "df1 = pd.DataFrame({'a':[1,2],\n",
        "                    'b':[3,4]})\n",
        "print(\"df1:\\n\", df1)\n",
        "df2 = pd.DataFrame({'b':[1,2],\n",
        "                    'a':[3,4]})\n",
        "print(\"df2:\\n\", df2)\n",
        "#terapkan method append\n",
        "df1_append_df2 = df1.append(df2)\n",
        "print(\"Dataframe - append:\\n\", df1_append_df2)"
      ],
      "metadata": {
        "colab": {
          "base_uri": "https://localhost:8080/"
        },
        "id": "yj14AJSQRos7",
        "outputId": "7d5052f4-055f-42f5-ef3a-111c6e8348a3"
      },
      "execution_count": 5,
      "outputs": [
        {
          "output_type": "stream",
          "name": "stdout",
          "text": [
            "df1:\n",
            "    a  b\n",
            "0  1  3\n",
            "1  2  4\n",
            "df2:\n",
            "    b  a\n",
            "0  1  3\n",
            "1  2  4\n",
            "Dataframe - append:\n",
            "    a  b\n",
            "0  1  3\n",
            "1  2  4\n",
            "0  3  1\n",
            "1  4  2\n"
          ]
        },
        {
          "output_type": "stream",
          "name": "stderr",
          "text": [
            "<ipython-input-5-0b340b703181>:9: FutureWarning: The frame.append method is deprecated and will be removed from pandas in a future version. Use pandas.concat instead.\n",
            "  df1_append_df2 = df1.append(df2)\n"
          ]
        }
      ]
    },
    {
      "cell_type": "code",
      "source": [
        "#Buat dataframe df1 dan df2\n",
        "df1 = pd.DataFrame({'a':[1,2],\n",
        "                    'b':[3,4]})\n",
        "print(\"df1:\\n\", df1)\n",
        "df2 = pd.DataFrame({'b':[1,2],\n",
        "                    'a':[3,4]})\n",
        "print(\"df2:\\n\", df2)\n",
        "#menerapkan method concat column-wise\n",
        "col_wise_concat = pd.concat([df1,df2], axis = 1)\n",
        "print(\"column-wise - concat:\\n\", col_wise_concat)"
      ],
      "metadata": {
        "colab": {
          "base_uri": "https://localhost:8080/"
        },
        "id": "RhpTL573SqFT",
        "outputId": "30fe0b0d-a396-4995-b566-c2f9faae523a"
      },
      "execution_count": 6,
      "outputs": [
        {
          "output_type": "stream",
          "name": "stdout",
          "text": [
            "df1:\n",
            "    a  b\n",
            "0  1  3\n",
            "1  2  4\n",
            "df2:\n",
            "    b  a\n",
            "0  1  3\n",
            "1  2  4\n",
            "column-wise - concat:\n",
            "    a  b  b  a\n",
            "0  1  3  1  3\n",
            "1  2  4  2  4\n"
          ]
        }
      ]
    },
    {
      "cell_type": "code",
      "source": [
        "#Pendambahan identifier --> membentuk hasil penggabungan multiindex\n",
        "multiindex_concat = pd.concat([df1,df2], axis = 0, keys = ['df1','df2'])\n",
        "print(\"Multiindex - concat:\\n\", multiindex_concat)"
      ],
      "metadata": {
        "colab": {
          "base_uri": "https://localhost:8080/"
        },
        "id": "9WpqhIgWTRJk",
        "outputId": "edf7d432-9e8d-41a3-8a2f-d301fe6cb709"
      },
      "execution_count": 7,
      "outputs": [
        {
          "output_type": "stream",
          "name": "stdout",
          "text": [
            "Multiindex - concat:\n",
            "        a  b\n",
            "df1 0  1  3\n",
            "    1  2  4\n",
            "df2 0  3  1\n",
            "    1  4  2\n"
          ]
        }
      ]
    },
    {
      "cell_type": "code",
      "source": [
        "#Membuat dataframe df1 dan df2\n",
        "df1 = pd.DataFrame({\n",
        "  'key':['k1','k2','k3','k4','k5'],\n",
        "  'val1':[200,500,0,500,100],\n",
        "  'val2':[30,50,100,20,10]\n",
        "})\n",
        "print(\"df:\\n\", df1)\n",
        "df2 = pd.DataFrame({\n",
        "  'key':['k1','k3','k5','k7','k10'],\n",
        "  'val3':[1,2,3,4,5],\n",
        "  'val4':[6,7,8,9,10]\n",
        "})\n",
        "print(\"df2:\\n\", df2)"
      ],
      "metadata": {
        "colab": {
          "base_uri": "https://localhost:8080/"
        },
        "id": "klqoiE8JTr2q",
        "outputId": "aa270d2a-cc05-4e11-f8b4-df4a4bc0c63c"
      },
      "execution_count": 14,
      "outputs": [
        {
          "output_type": "stream",
          "name": "stdout",
          "text": [
            "df:\n",
            "   key  val1  val2\n",
            "0  k1   200    30\n",
            "1  k2   500    50\n",
            "2  k3     0   100\n",
            "3  k4   500    20\n",
            "4  k5   100    10\n",
            "df2:\n",
            "    key  val3  val4\n",
            "0   k1     1     6\n",
            "1   k3     2     7\n",
            "2   k5     3     8\n",
            "3   k7     4     9\n",
            "4  k10     5    10\n"
          ]
        }
      ]
    },
    {
      "cell_type": "code",
      "source": [
        "#Merge yang ekivalen dengan SQL left join\n",
        "merge_df_left = pd.merge(left=df1, right=df2, how='left', left_on='key', right_on='key')\n",
        "print('merge - left:\\n', merge_df_left)"
      ],
      "metadata": {
        "colab": {
          "base_uri": "https://localhost:8080/"
        },
        "id": "3p98TYljUrM2",
        "outputId": "9c3049f7-e5fa-40c3-a40f-dca1e5141127"
      },
      "execution_count": 15,
      "outputs": [
        {
          "output_type": "stream",
          "name": "stdout",
          "text": [
            "merge - left:\n",
            "   key  val1  val2  val3  val4\n",
            "0  k1   200    30   1.0   6.0\n",
            "1  k2   500    50   NaN   NaN\n",
            "2  k3     0   100   2.0   7.0\n",
            "3  k4   500    20   NaN   NaN\n",
            "4  k5   100    10   3.0   8.0\n"
          ]
        }
      ]
    },
    {
      "cell_type": "code",
      "source": [
        "#Merge yang ekivalen dengan SQL right join\n",
        "merge_df_right = pd.merge(left=df1, right=df2, how='right', left_on='key', right_on='key')\n",
        "print('merge - right:\\n', merge_df_right)"
      ],
      "metadata": {
        "colab": {
          "base_uri": "https://localhost:8080/"
        },
        "id": "83bwCoPVU2Y-",
        "outputId": "c1137301-4bec-4011-9943-a13b1dcfc48c"
      },
      "execution_count": 16,
      "outputs": [
        {
          "output_type": "stream",
          "name": "stdout",
          "text": [
            "merge - right:\n",
            "    key   val1   val2  val3  val4\n",
            "0   k1  200.0   30.0     1     6\n",
            "1   k3    0.0  100.0     2     7\n",
            "2   k5  100.0   10.0     3     8\n",
            "3   k7    NaN    NaN     4     9\n",
            "4  k10    NaN    NaN     5    10\n"
          ]
        }
      ]
    },
    {
      "cell_type": "code",
      "source": [
        "#Merge yang ekivalen dengan SQL inner join\n",
        "merge_df_inner = pd.merge(left=df1, right=df2, how='inner', left_on='key', right_on='key')\n",
        "print('merge - inner:\\n', merge_df_inner)"
      ],
      "metadata": {
        "colab": {
          "base_uri": "https://localhost:8080/"
        },
        "id": "_GePfB8bU2j1",
        "outputId": "202ffc81-d31c-4fcc-db3c-10dcc9603077"
      },
      "execution_count": 17,
      "outputs": [
        {
          "output_type": "stream",
          "name": "stdout",
          "text": [
            "merge - inner:\n",
            "   key  val1  val2  val3  val4\n",
            "0  k1   200    30     1     6\n",
            "1  k3     0   100     2     7\n",
            "2  k5   100    10     3     8\n"
          ]
        }
      ]
    },
    {
      "cell_type": "code",
      "source": [
        "#Merge yang ekivalen dengan SQL outer join\n",
        "merge_df_outer = pd.merge(left=df1, right=df2, how='outer', left_on='key', right_on='key')\n",
        "print('merge - outter:\\n', merge_df_outer)"
      ],
      "metadata": {
        "colab": {
          "base_uri": "https://localhost:8080/"
        },
        "id": "OZM-ePFUU2rN",
        "outputId": "f775c948-2959-4511-f813-ec8be4b0bc43"
      },
      "execution_count": 18,
      "outputs": [
        {
          "output_type": "stream",
          "name": "stdout",
          "text": [
            "merge - outter:\n",
            "    key   val1   val2  val3  val4\n",
            "0   k1  200.0   30.0   1.0   6.0\n",
            "1   k2  500.0   50.0   NaN   NaN\n",
            "2   k3    0.0  100.0   2.0   7.0\n",
            "3   k4  500.0   20.0   NaN   NaN\n",
            "4   k5  100.0   10.0   3.0   8.0\n",
            "5   k7    NaN    NaN   4.0   9.0\n",
            "6  k10    NaN    NaN   5.0  10.0\n"
          ]
        }
      ]
    },
    {
      "cell_type": "code",
      "source": [
        "#Membuat dataframe df1 dan df2\n",
        "df1 = pd.DataFrame({\n",
        "  'key':['k1','k2','k3','k4','k5'],\n",
        "  'val1':[200,500,0,500,100],\n",
        "  'val2':[30,50,100,20,10]\n",
        "}).set_index(['key','val2'])\n",
        "print('Dataframe 1:\\n', df1)\n",
        "df2 = pd.DataFrame({\n",
        "  'key':['k1','k3','k5','k7','k10'],\n",
        "  'val3':[1,2,3,4,5],\n",
        "  'val4':[6,7,8,9,10]\n",
        "}).set_index(['key','val3'])\n",
        "print('Dataframe 2:\\n', df2)"
      ],
      "metadata": {
        "colab": {
          "base_uri": "https://localhost:8080/"
        },
        "id": "MXtRZa8JWhlA",
        "outputId": "0bc109d0-087b-4d1a-8a24-c43621f4afb3"
      },
      "execution_count": 20,
      "outputs": [
        {
          "output_type": "stream",
          "name": "stdout",
          "text": [
            "Dataframe 1:\n",
            "           val1\n",
            "key val2      \n",
            "k1  30     200\n",
            "k2  50     500\n",
            "k3  100      0\n",
            "k4  20     500\n",
            "k5  10     100\n",
            "Dataframe 2:\n",
            "           val4\n",
            "key val3      \n",
            "k1  1        6\n",
            "k3  2        7\n",
            "k5  3        8\n",
            "k7  4        9\n",
            "k10 5       10\n"
          ]
        }
      ]
    },
    {
      "cell_type": "code",
      "source": [
        "#Merge dataframe yang memiliki multiindex\n",
        "df_merge = pd.merge(df1.reset_index(),df2.reset_index())\n",
        "print('merging dataframe:\\n', df_merge)"
      ],
      "metadata": {
        "colab": {
          "base_uri": "https://localhost:8080/"
        },
        "id": "ql5uMOs4Xwbx",
        "outputId": "bd9e7d6e-999a-46b2-87e3-4268cf444cc2"
      },
      "execution_count": 21,
      "outputs": [
        {
          "output_type": "stream",
          "name": "stdout",
          "text": [
            "merging dataframe:\n",
            "   key  val2  val1  val3  val4\n",
            "0  k1    30   200     1     6\n",
            "1  k3   100     0     2     7\n",
            "2  k5    10   100     3     8\n"
          ]
        }
      ]
    },
    {
      "cell_type": "code",
      "source": [
        "#Membuat dataframe df1 dan df2\n",
        "df1 = pd.DataFrame({\n",
        "  'key':['k1','k2','k3','k4','k5'],\n",
        "  'val1':[200,500,0,500,100],\n",
        "  'val2':[30,50,100,20,10]\n",
        "})\n",
        "print(\"df:\\n\", df1)\n",
        "df2 = pd.DataFrame({\n",
        "  'key':['k1','k3','k5','k7','k10'],\n",
        "  'val3':[1,2,3,4,5],\n",
        "  'val4':[6,7,8,9,10]\n",
        "})\n",
        "print(df1.set_index('key').join(df2.set_index('key')))"
      ],
      "metadata": {
        "colab": {
          "base_uri": "https://localhost:8080/"
        },
        "id": "Z2Fe-jf1YOSe",
        "outputId": "061072c6-7ea0-4b71-d963-1f0c2275e365"
      },
      "execution_count": 23,
      "outputs": [
        {
          "output_type": "stream",
          "name": "stdout",
          "text": [
            "df:\n",
            "   key  val1  val2\n",
            "0  k1   200    30\n",
            "1  k2   500    50\n",
            "2  k3     0   100\n",
            "3  k4   500    20\n",
            "4  k5   100    10\n",
            "     val1  val2  val3  val4\n",
            "key                        \n",
            "k1    200    30   1.0   6.0\n",
            "k2    500    50   NaN   NaN\n",
            "k3      0   100   2.0   7.0\n",
            "k4    500    20   NaN   NaN\n",
            "k5    100    10   3.0   8.0\n"
          ]
        }
      ]
    },
    {
      "cell_type": "code",
      "source": [
        "#Membuat dataframe df1 dan df2\n",
        "df1 = pd.DataFrame({\n",
        "  'key':['k1','k2','k3','k4','k5'],\n",
        "  'val1':[200,500,0,500,100],\n",
        "  'val2':[30,50,100,20,10]\n",
        "})\n",
        "print(\"df:\\n\", df1)\n",
        "df2 = pd.DataFrame({\n",
        "  'key':['k1','k3','k5','k7','k10'],\n",
        "  'val3':[1,2,3,4,5],\n",
        "  'val4':[6,7,8,9,10]\n",
        "})\n",
        "join_df = df1.set_index('key').join(df2.set_index('key'), how = 'inner')\n",
        "print(join_df)"
      ],
      "metadata": {
        "colab": {
          "base_uri": "https://localhost:8080/"
        },
        "id": "Fy7lM9YQYjR4",
        "outputId": "fa2eeded-9875-4e50-c5fe-d2e9c0df63b7"
      },
      "execution_count": 24,
      "outputs": [
        {
          "output_type": "stream",
          "name": "stdout",
          "text": [
            "df:\n",
            "   key  val1  val2\n",
            "0  k1   200    30\n",
            "1  k2   500    50\n",
            "2  k3     0   100\n",
            "3  k4   500    20\n",
            "4  k5   100    10\n",
            "     val1  val2  val3  val4\n",
            "key                        \n",
            "k1    200    30     1     6\n",
            "k3      0   100     2     7\n",
            "k5    100    10     3     8\n"
          ]
        }
      ]
    }
  ]
}