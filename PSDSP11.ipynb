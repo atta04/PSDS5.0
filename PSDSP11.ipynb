{
  "nbformat": 4,
  "nbformat_minor": 0,
  "metadata": {
    "colab": {
      "provenance": []
    },
    "kernelspec": {
      "name": "python3",
      "display_name": "Python 3"
    },
    "language_info": {
      "name": "python"
    }
  },
  "cells": [
    {
      "cell_type": "code",
      "execution_count": 2,
      "metadata": {
        "colab": {
          "base_uri": "https://localhost:8080/"
        },
        "id": "Ud2e0zUOV4n3",
        "outputId": "c80e1052-3699-4762-9c51-099b9c804185"
      },
      "outputs": [
        {
          "output_type": "stream",
          "name": "stdout",
          "text": [
            "hello, Dian\n",
            "hello, Ayu\n"
          ]
        }
      ],
      "source": [
        "greeting = lambda name : print(f\"hello, {name}\")\n",
        "greeting(\"Dian\")\n",
        "greeting(\"Ayu\")"
      ]
    },
    {
      "cell_type": "code",
      "source": [
        "f = lambda x : x + 10\n",
        "val1 = f(5)\n",
        "val2 = f(100)\n",
        "print(val1, val2)"
      ],
      "metadata": {
        "colab": {
          "base_uri": "https://localhost:8080/"
        },
        "id": "9-_DyQqqWY6J",
        "outputId": "216fc77a-ffc2-4469-8559-12d079a88b0b"
      },
      "execution_count": 3,
      "outputs": [
        {
          "output_type": "stream",
          "name": "stdout",
          "text": [
            "15 110\n"
          ]
        }
      ]
    },
    {
      "cell_type": "code",
      "source": [
        "f = lambda x,y : x*y\n",
        "val3 = f(2,10)\n",
        "val4 = f(7,5)\n",
        "print(val3, val4)"
      ],
      "metadata": {
        "colab": {
          "base_uri": "https://localhost:8080/"
        },
        "id": "u-_gWKL1Ws-F",
        "outputId": "fb37d222-dc88-4823-fabc-848d238c20ed"
      },
      "execution_count": 4,
      "outputs": [
        {
          "output_type": "stream",
          "name": "stdout",
          "text": [
            "20 35\n"
          ]
        }
      ]
    },
    {
      "cell_type": "markdown",
      "source": [
        "1. Buatlah fungsi lambda untuk menghitung fungsi dari persegi panjang"
      ],
      "metadata": {
        "id": "zo6dYq7AYX3s"
      }
    },
    {
      "cell_type": "code",
      "source": [
        "f = lambda p,l : p*l\n",
        "val5 = f(100,7)\n",
        "print(val5)"
      ],
      "metadata": {
        "colab": {
          "base_uri": "https://localhost:8080/"
        },
        "id": "iv3Q86urYlPC",
        "outputId": "944cdee8-560f-4082-ba3c-33f236ffb240"
      },
      "execution_count": 8,
      "outputs": [
        {
          "output_type": "stream",
          "name": "stdout",
          "text": [
            "700\n"
          ]
        }
      ]
    },
    {
      "cell_type": "markdown",
      "source": [
        "2. Buatlah fungsi lambda untuk menghitung luas segitiga"
      ],
      "metadata": {
        "id": "L0ZIJJIzaCdo"
      }
    },
    {
      "cell_type": "code",
      "source": [
        "f = lambda a,t : (a*t)/2\n",
        "val6 = f(7,10)\n",
        "print(val6)"
      ],
      "metadata": {
        "colab": {
          "base_uri": "https://localhost:8080/"
        },
        "id": "4dKhPbTdaHFr",
        "outputId": "b67eaa7d-3c8e-4d5b-b7eb-a6a1451be905"
      },
      "execution_count": 11,
      "outputs": [
        {
          "output_type": "stream",
          "name": "stdout",
          "text": [
            "35.0\n"
          ]
        }
      ]
    }
  ]
}